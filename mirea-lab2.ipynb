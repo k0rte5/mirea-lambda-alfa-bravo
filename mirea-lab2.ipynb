{
 "cells": [
  {
   "cell_type": "code",
   "execution_count": 4,
   "metadata": {},
   "outputs": [
    {
     "name": "stdout",
     "output_type": "stream",
     "text": [
      "E-mail: mail\n"
     ]
    }
   ],
   "source": [
    "class Author:\n",
    "    __name='None'\n",
    "    __email='None'\n",
    "    __gender='Not specified'\n",
    "\n",
    "    def __init__(self, name,email,gender) -> None:\n",
    "        self.__name=name\n",
    "        self.__email=email\n",
    "        self.__gender=gender\n",
    "    \n",
    "    def get_Name(self):\n",
    "        print('Name:',self.__name)\n",
    "    \n",
    "    def get_Email(self):\n",
    "        print('E-mail:',self.__email)\n",
    "    \n",
    "    def get_Gender(self):\n",
    "        print('Gender:',self.__gender)\n",
    "\n",
    "\n",
    "\n",
    "class TestAuthor(Author):\n",
    "    def __init__(self, name, email, gender) -> None:\n",
    "        Author.__init__(self,name, email, gender)\n",
    "    \n",
    "man=TestAuthor(input(),input(),input())\n",
    "\n",
    "man.get_Email()"
   ]
  }
 ],
 "metadata": {
  "kernelspec": {
   "display_name": "Python 3",
   "language": "python",
   "name": "python3"
  },
  "language_info": {
   "codemirror_mode": {
    "name": "ipython",
    "version": 3
   },
   "file_extension": ".py",
   "mimetype": "text/x-python",
   "name": "python",
   "nbconvert_exporter": "python",
   "pygments_lexer": "ipython3",
   "version": "3.8.10"
  }
 },
 "nbformat": 4,
 "nbformat_minor": 2
}
