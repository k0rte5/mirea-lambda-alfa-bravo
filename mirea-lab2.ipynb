{
 "cells": [
  {
   "cell_type": "code",
   "execution_count": 5,
   "metadata": {},
   "outputs": [
    {
     "name": "stdout",
     "output_type": "stream",
     "text": [
      "E-mail: mail\n"
     ]
    }
   ],
   "source": [
    "class Author:\n",
    "    __name='None'\n",
    "    __email='None'\n",
    "    __gender='Not specified'\n",
    "\n",
    "    def __init__(self, name,email,gender) -> None:\n",
    "        self.__name=name\n",
    "        self.__email=email\n",
    "        self.__gender=gender\n",
    "    \n",
    "    def get_Name(self):\n",
    "        print('Name:',self.__name)\n",
    "    \n",
    "    def get_Email(self):\n",
    "        print('E-mail:',self.__email)\n",
    "    \n",
    "    def get_Gender(self):\n",
    "        print('Gender:',self.__gender)\n",
    "\n",
    "\n",
    "\n",
    "class TestAuthor(Author):\n",
    "    def __init__(self, name, email, gender) -> None:\n",
    "        Author.__init__(self,name, email, gender)\n",
    "\n",
    "#creating test author    \n",
    "man=TestAuthor(input(\"Enter author's name:\"),input(\"Enter author's E-mail:\"),input('What is your gender?'))\n",
    "\n",
    "#getting info\n",
    "man.get_Name()\n",
    "man.get_Email()\n",
    "man.get_Gender()"
   ]
  }
 ],
 "metadata": {
  "kernelspec": {
   "display_name": "Python 3",
   "language": "python",
   "name": "python3"
  },
  "language_info": {
   "codemirror_mode": {
    "name": "ipython",
    "version": 3
   },
   "file_extension": ".py",
   "mimetype": "text/x-python",
   "name": "python",
   "nbconvert_exporter": "python",
   "pygments_lexer": "ipython3",
   "version": "3.8.10"
  }
 },
 "nbformat": 4,
 "nbformat_minor": 2
}
