{
 "cells": [
  {
   "cell_type": "code",
   "execution_count": 4,
   "metadata": {},
   "outputs": [
    {
     "name": "stdout",
     "output_type": "stream",
     "text": [
      "bob\n"
     ]
    }
   ],
   "source": [
    "class Author:\n",
    "    __name='None'\n",
    "    __email='None'\n",
    "    __gender='Not specified'\n",
    "\n",
    "    def __init__(self, name,email,gender) -> None:\n",
    "        self.__name=name\n",
    "        self.__email=email\n",
    "        self.__gender=gender\n",
    "    \n",
    "    def get_Name(self):\n",
    "        print(self.__name)\n",
    "\n",
    "Bob=Author(input(),input(),input())\n",
    "\n",
    "\n",
    "Bob.get_Name()"
   ]
  }
 ],
 "metadata": {
  "kernelspec": {
   "display_name": "Python 3",
   "language": "python",
   "name": "python3"
  },
  "language_info": {
   "codemirror_mode": {
    "name": "ipython",
    "version": 3
   },
   "file_extension": ".py",
   "mimetype": "text/x-python",
   "name": "python",
   "nbconvert_exporter": "python",
   "pygments_lexer": "ipython3",
   "version": "3.8.10"
  }
 },
 "nbformat": 4,
 "nbformat_minor": 2
}
