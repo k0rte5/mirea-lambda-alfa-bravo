{
 "cells": [
  {
   "cell_type": "code",
   "execution_count": null,
   "metadata": {},
   "outputs": [],
   "source": [
    "#3\n",
    "A=[7,12,13,42,451]\n",
    "summa,j=0,0\n",
    "for i in A:\n",
    "    summa+=i\n",
    "    j+=1\n",
    "print('Сумма элементов массива:',summa)\n",
    "print('Среднее арифметическое элементов массива:',summa/j)\n",
    "    "
   ]
  },
  {
   "cell_type": "code",
   "execution_count": null,
   "metadata": {},
   "outputs": [],
   "source": [
    "#3.1\n",
    "A=[7,12,13,42,451]\n",
    "summa,j=0,0\n",
    "for i in A:\n",
    "    summa+=1\n",
    "print('Сумма элементов массива:',summa)\n",
    "print('Среднее арифметическое элементов массива:',sum(A)/len(A))"
   ]
  },
  {
   "cell_type": "code",
   "execution_count": null,
   "metadata": {},
   "outputs": [],
   "source": [
    "#4\n",
    "A=[]\n",
    "while True:\n",
    "    n=input('Введите целое число')\n",
    "    try:\n",
    "        num=int(n)\n",
    "        A.append(num)\n",
    "     \n",
    "    except ValueError:\n",
    "        print('Не является целочисленным числом')\n",
    "        break    \n",
    "    print('Сумма элементов массива:',sum(A))    \n",
    "print('max:',max(A))\n",
    "print('min:',min(A))    "
   ]
  },
  {
   "cell_type": "code",
   "execution_count": null,
   "metadata": {},
   "outputs": [],
   "source": [
    "#5\n",
    "import sys\n",
    "\n",
    "for i in sys.argv:\n",
    "    print(i)"
   ]
  },
  {
   "cell_type": "code",
   "execution_count": null,
   "metadata": {},
   "outputs": [],
   "source": [
    "#6\n",
    "for i in range(1,11):\n",
    "    print(f'{1/i:.2f}')"
   ]
  },
  {
   "cell_type": "code",
   "execution_count": null,
   "metadata": {},
   "outputs": [],
   "source": [
    "#7\n",
    "class Numby:\n",
    "    def __init__(self,val):\n",
    "        self.valc=val\n",
    "    def fact_calc(self):\n",
    "        n=1\n",
    "        for i in range(1,self.valc+1):\n",
    "            n*=i\n",
    "        return n\n",
    "\n",
    "t=Numby(int(input()))\n",
    "t.fact_calc()"
   ]
  }
 ],
 "metadata": {
  "kernelspec": {
   "display_name": "Python 3",
   "language": "python",
   "name": "python3"
  },
  "language_info": {
   "codemirror_mode": {
    "name": "ipython",
    "version": 3
   },
   "file_extension": ".py",
   "mimetype": "text/x-python",
   "name": "python",
   "nbconvert_exporter": "python",
   "pygments_lexer": "ipython3",
   "version": "3.8.10"
  }
 },
 "nbformat": 4,
 "nbformat_minor": 2
}
