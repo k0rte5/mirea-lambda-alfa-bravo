{
 "cells": [
  {
   "cell_type": "code",
   "execution_count": null,
   "metadata": {},
   "outputs": [],
   "source": [
    "A=[]\n",
    "for i in range(9):\n",
    "    A.append(i)\n",
    "    print('Сумма элементов массива:',sum(A))\n",
    "    print('Среднее арифметическое элементов массива:',sum(A)/len(A))\n",
    "    "
   ]
  },
  {
   "cell_type": "code",
   "execution_count": null,
   "metadata": {},
   "outputs": [],
   "source": [
    "A=[]\n",
    "while True:\n",
    "    n=input('Введите целое число')\n",
    "    try:\n",
    "        num=int(n)\n",
    "        A.append(num)\n",
    "        print('max:',max(A))\n",
    "        print('min:',min(A))\n",
    "    except ValueError:\n",
    "        print('Не является целочисленным числом')\n",
    "        break"
   ]
  },
  {
   "cell_type": "code",
   "execution_count": null,
   "metadata": {},
   "outputs": [],
   "source": []
  }
 ],
 "metadata": {
  "kernelspec": {
   "display_name": "Python 3",
   "language": "python",
   "name": "python3"
  },
  "language_info": {
   "codemirror_mode": {
    "name": "ipython",
    "version": 3
   },
   "file_extension": ".py",
   "mimetype": "text/x-python",
   "name": "python",
   "nbconvert_exporter": "python",
   "pygments_lexer": "ipython3",
   "version": "3.8.10"
  }
 },
 "nbformat": 4,
 "nbformat_minor": 2
}
